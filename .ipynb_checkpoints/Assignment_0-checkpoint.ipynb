{
 "cells": [
  {
   "cell_type": "code",
   "execution_count": 1,
   "id": "f8f3cddb-80d2-4ef0-a5ce-e5014ca46a70",
   "metadata": {},
   "outputs": [],
   "source": [
    "import numpy as np"
   ]
  },
  {
   "cell_type": "markdown",
   "id": "209114f4-c463-4b67-b05e-e461cff2b63a",
   "metadata": {},
   "source": [
    "We start with the probality in the case of coins in the buckets. \n",
    "Let:\n",
    "- N - number of buckets\n",
    "- k - number of coins we throw\n",
    "\n",
    "For a specific bucket (let's say number 7) the probability of the first coin going into that bucket is 1/N, so the probability of bucket 7 being empty after the first throw is 1-1/N. \n",
    "\n",
    "For the second throw, it will be (1-1/N)^2 because now we need to miss both times \n",
    "\n",
    "for the k-th throw the probability of it being empty is (1-1/N)^k, again we would have to miss the bucket 7 all k times."
   ]
  },
  {
   "cell_type": "markdown",
   "id": "f5701324-81c4-4ec2-9af7-2136a2e9ba10",
   "metadata": {},
   "source": [
    "Now that we have the probability of a specific bucket being empty after k throws, we can calculate to probability of it not being empty (In other words at least one coin is in the bucket) after k throws which will be 1-(1-1/N)^k\n",
    "\n",
    "If we want to get the expected number of buckets not being empty, then we just have to sum the probabilities of every bucket: \n",
    "\n",
    "$\\sum_{i=1}^{N} 1-(1-1/N)^k$\n",
    "\n",
    "Here is the code that computes the value of the sum written above for 6000 buckets, and 7000 coins (or, 7000 integers that are lower than 6000)"
   ]
  },
  {
   "cell_type": "code",
   "execution_count": 307,
   "id": "b0bd9b94-789f-4e8f-a629-92683b5bca07",
   "metadata": {},
   "outputs": [],
   "source": [
    "N = 6000\n",
    "k = 7000"
   ]
  },
  {
   "cell_type": "code",
   "execution_count": 308,
   "id": "db1fc11a-d9e7-4d29-b788-c98a2f744fad",
   "metadata": {},
   "outputs": [
    {
     "data": {
      "text/plain": [
       "4131.76231974688"
      ]
     },
     "execution_count": 308,
     "metadata": {},
     "output_type": "execute_result"
    }
   ],
   "source": [
    "expected = np.sum(np.ones([6000])*(1-np.power(1-1/6000,7000)))\n",
    "expected"
   ]
  },
  {
   "cell_type": "markdown",
   "id": "d79a3500-11c2-4f0b-8a40-f06db970b1b7",
   "metadata": {},
   "source": [
    "To verify the formula, we have tried different combinations of the numbers of buckets and throws (in other words the range of the integers and the size of the array) \n",
    "\n",
    "The code here presents the results"
   ]
  },
  {
   "cell_type": "code",
   "execution_count": 339,
   "id": "05f580de-4b1d-4f73-a681-70d02464a94c",
   "metadata": {},
   "outputs": [],
   "source": [
    "def expected(N,k):\n",
    "    return np.sum(np.ones([N])*(1-np.power(1-1/N,k)))"
   ]
  },
  {
   "cell_type": "code",
   "execution_count": 340,
   "id": "8ae6372c-0fb1-42f8-8c87-e92e85da14e3",
   "metadata": {},
   "outputs": [
    {
     "name": "stdout",
     "output_type": "stream",
     "text": [
      "unique values in the array: 6.46\n",
      "Expected unique values from the formula: 6.513215598999999\n"
     ]
    }
   ],
   "source": [
    "N = 10\n",
    "k = 10\n",
    "\n",
    "tmp = []\n",
    "\n",
    "for i in range(100):\n",
    "    random_array = np.random.randint(N,size = k )\n",
    "    tmp.append(np.unique(random_array).shape[0] )\n",
    "# print(tmp)\n",
    "tmp = np.array(tmp)\n",
    "print(\"unique values in the array: \"f'{np.mean(tmp)}')\n",
    "print(\"Expected unique values from the formula: \"f'{expected(N,k)}')\n",
    "# expected(N,k)\n"
   ]
  },
  {
   "cell_type": "code",
   "execution_count": 349,
   "id": "84bcc431-b1ea-45cb-848a-b16a6ed3bde0",
   "metadata": {},
   "outputs": [
    {
     "name": "stdout",
     "output_type": "stream",
     "text": [
      "unique values in the array: 4133.12\n",
      "Expected unique values from the formula: 4131.76231974688\n"
     ]
    }
   ],
   "source": [
    "N = 6000\n",
    "k = 7000\n",
    "\n",
    "tmp = []\n",
    "\n",
    "for i in range(100):\n",
    "    random_array = np.random.randint(N,size = k )\n",
    "    tmp.append(np.unique(random_array).shape[0] )\n",
    "    \n",
    "tmp = np.array(tmp)\n",
    "print(\"unique values in the array: \"f'{np.mean(tmp)}')\n",
    "print(\"Expected unique values from the formula: \"f'{expected(N,k)}')\n"
   ]
  },
  {
   "cell_type": "code",
   "execution_count": 350,
   "id": "8772bb4f-6585-4c73-b5b1-da6981c489ac",
   "metadata": {},
   "outputs": [
    {
     "name": "stdout",
     "output_type": "stream",
     "text": [
      "unique values in the array: 5032.42\n",
      "Expected unique values from the formula: 5034.320775487754\n"
     ]
    }
   ],
   "source": [
    "N = 10000\n",
    "k = 7000\n",
    "\n",
    "tmp = []\n",
    "\n",
    "for i in range(100):\n",
    "    random_array = np.random.randint(N,size = k )\n",
    "    tmp.append(np.unique(random_array).shape[0] )\n",
    "\n",
    "tmp = np.array(tmp)\n",
    "print(\"unique values in the array: \"f'{np.mean(tmp)}')\n",
    "print(\"Expected unique values from the formula: \"f'{expected(N,k)}')\n"
   ]
  },
  {
   "cell_type": "code",
   "execution_count": 351,
   "id": "d4a0569f-0364-4c36-af8e-e2d32ea01543",
   "metadata": {},
   "outputs": [
    {
     "name": "stdout",
     "output_type": "stream",
     "text": [
      "unique values in the array: 6993.77\n",
      "Expected unique values from the formula: 6988.23860403129\n"
     ]
    }
   ],
   "source": [
    "N = 10000\n",
    "k = 12000\n",
    "\n",
    "tmp = []\n",
    "\n",
    "for i in range(100):\n",
    "    random_array = np.random.randint(N,size = k )\n",
    "    tmp.append(np.unique(random_array).shape[0] )\n",
    "\n",
    "tmp = np.array(tmp)\n",
    "print(\"unique values in the array: \"f'{np.mean(tmp)}')\n",
    "print(\"Expected unique values from the formula: \"f'{expected(N,k)}')\n"
   ]
  },
  {
   "cell_type": "code",
   "execution_count": 352,
   "id": "6de47bb1-2a5d-4ae2-8662-ce972672172d",
   "metadata": {},
   "outputs": [
    {
     "name": "stdout",
     "output_type": "stream",
     "text": [
      "unique values in the array: 63202.56\n",
      "Expected unique values from the formula: 63212.239823175325\n"
     ]
    }
   ],
   "source": [
    "N = 100000\n",
    "k = 100000\n",
    "\n",
    "tmp = []\n",
    "\n",
    "for i in range(100):\n",
    "    random_array = np.random.randint(N,size = k )\n",
    "    tmp.append(np.unique(random_array).shape[0] )\n",
    "\n",
    "tmp = np.array(tmp)\n",
    "print(\"unique values in the array: \"f'{np.mean(tmp)}')\n",
    "print(\"Expected unique values from the formula: \"f'{expected(N,k)}')\n"
   ]
  },
  {
   "cell_type": "markdown",
   "id": "0de20eb2-be6e-4438-9c5e-2ed77e461079",
   "metadata": {},
   "source": [
    "As we can see, the formula and the experiment are very close in every example."
   ]
  },
  {
   "cell_type": "code",
   "execution_count": null,
   "id": "fd431806-f23c-4d4c-a8d6-4eb3cc78522a",
   "metadata": {},
   "outputs": [],
   "source": []
  }
 ],
 "metadata": {
  "kernelspec": {
   "display_name": "Python 3 (ipykernel)",
   "language": "python",
   "name": "python3"
  },
  "language_info": {
   "codemirror_mode": {
    "name": "ipython",
    "version": 3
   },
   "file_extension": ".py",
   "mimetype": "text/x-python",
   "name": "python",
   "nbconvert_exporter": "python",
   "pygments_lexer": "ipython3",
   "version": "3.9.13"
  }
 },
 "nbformat": 4,
 "nbformat_minor": 5
}
