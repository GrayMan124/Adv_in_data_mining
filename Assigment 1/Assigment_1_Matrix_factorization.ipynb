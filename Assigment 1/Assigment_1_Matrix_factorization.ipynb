{
 "cells": [
  {
   "cell_type": "code",
   "execution_count": 92,
   "id": "01286d23-7f9f-464c-bf4c-7cadffec030d",
   "metadata": {},
   "outputs": [],
   "source": [
    "import pandas as pd\n",
    "from sklearn.model_selection import KFold\n",
    "from sklearn.metrics import mean_squared_error\n",
    "from sklearn.metrics import mean_absolute_error\n",
    "\n",
    "\n",
    "import numpy as np"
   ]
  },
  {
   "cell_type": "code",
   "execution_count": 4,
   "id": "ec4d6978-5048-49cc-959c-aaac05dbc153",
   "metadata": {},
   "outputs": [],
   "source": [
    "movies_df = pd.read_csv('ml-1m/movies.dat',\n",
    "                        delimiter='::', engine= 'python', header=None,\n",
    "                        names=['movie_name', 'genre'], encoding = \"ISO-8859-1\")"
   ]
  },
  {
   "cell_type": "code",
   "execution_count": 5,
   "id": "f99ed3af-0745-452f-bdfe-1798a8c3b50f",
   "metadata": {},
   "outputs": [],
   "source": [
    "rating_df = pd.read_csv('ml-1m/ratings.dat',\n",
    "                        delimiter='::', engine= 'python', header=None,\n",
    "                        names=['user_id', 'Movie_Id','Ratings','Time_stamp'], encoding = \"ISO-8859-1\")"
   ]
  },
  {
   "cell_type": "code",
   "execution_count": 6,
   "id": "ecb0e197-3983-44d9-a749-71877471d0bd",
   "metadata": {},
   "outputs": [
    {
     "name": "stderr",
     "output_type": "stream",
     "text": [
      "C:\\Users\\aczer\\AppData\\Local\\Temp\\ipykernel_14208\\3957394905.py:1: ParserWarning: Falling back to the 'python' engine because the 'c' engine does not support regex separators (separators > 1 char and different from '\\s+' are interpreted as regex); you can avoid this warning by specifying engine='python'.\n",
      "  users_df = pd.read_csv('ml-1m/users.dat',\n"
     ]
    }
   ],
   "source": [
    "users_df = pd.read_csv('ml-1m/users.dat',\n",
    "                        delimiter='::', header=None,\n",
    "                        names=['user_id', 'Gender','Age','Occupation','Zip-Code'], encoding = \"ISO-8859-1\")"
   ]
  },
  {
   "cell_type": "code",
   "execution_count": 70,
   "id": "1bd90aa9-ed8a-4044-9de4-b5096bb463c6",
   "metadata": {},
   "outputs": [],
   "source": [
    "# rating_df.loc[2]['movie_id']"
   ]
  },
  {
   "cell_type": "code",
   "execution_count": 34,
   "id": "dc71a438-d719-4fa6-8f5f-8c0fe3343732",
   "metadata": {},
   "outputs": [
    {
     "name": "stdout",
     "output_type": "stream",
     "text": [
      "user_id\n",
      "Movie_Id\n",
      "Ratings\n",
      "Time_stamp\n"
     ]
    }
   ],
   "source": [
    "j = 0\n",
    "for i in rating_df[:]:\n",
    "    print(i)\n",
    "    j+= 1 \n",
    "    if j > 30:\n",
    "        break"
   ]
  },
  {
   "cell_type": "code",
   "execution_count": 42,
   "id": "6b68fa20-d73f-4e14-ac68-aae36e970de1",
   "metadata": {},
   "outputs": [
    {
     "data": {
      "text/plain": [
       "1000209"
      ]
     },
     "execution_count": 42,
     "metadata": {},
     "output_type": "execute_result"
    }
   ],
   "source": [
    "len(rating_df)"
   ]
  },
  {
   "cell_type": "code",
   "execution_count": 80,
   "id": "39469b05-6fba-4b6b-a075-e8281e5b7b26",
   "metadata": {},
   "outputs": [],
   "source": [
    "def cross_validation(df,n_folds):\n",
    "    shuffled_df = df.sample(random_state = 42, frac =1)\n",
    "    shuffled_df['Fold']= None\n",
    "    shuffled_df.reset_index(inplace = True)\n",
    "    shuffled_df.drop(columns = 'index', inplace = True)\n",
    "    data_size = len(shuffled_df)\n",
    "    for i in range(1,n_folds):\n",
    "        shuffled_df.loc[int((i-1)/n_folds*data_size):int(i/n_folds * data_size),'Fold'] = i\n",
    "    shuffled_df.loc[int((n_folds-1)/n_folds*data_size):,'Fold']= n_folds\n",
    "    return shuffled_df"
   ]
  },
  {
   "cell_type": "code",
   "execution_count": 81,
   "id": "1d427b3d-fe29-42b7-8358-d628d86e64dc",
   "metadata": {},
   "outputs": [],
   "source": [
    "data = cross_validation(rating_df, 5)"
   ]
  },
  {
   "cell_type": "code",
   "execution_count": 104,
   "id": "b80678e0-ebee-49f2-a6f4-21f4d314e94b",
   "metadata": {},
   "outputs": [
    {
     "data": {
      "text/html": [
       "<div>\n",
       "<style scoped>\n",
       "    .dataframe tbody tr th:only-of-type {\n",
       "        vertical-align: middle;\n",
       "    }\n",
       "\n",
       "    .dataframe tbody tr th {\n",
       "        vertical-align: top;\n",
       "    }\n",
       "\n",
       "    .dataframe thead th {\n",
       "        text-align: right;\n",
       "    }\n",
       "</style>\n",
       "<table border=\"1\" class=\"dataframe\">\n",
       "  <thead>\n",
       "    <tr style=\"text-align: right;\">\n",
       "      <th></th>\n",
       "      <th>user_id</th>\n",
       "      <th>Movie_Id</th>\n",
       "      <th>Ratings</th>\n",
       "      <th>Time_stamp</th>\n",
       "      <th>Fold</th>\n",
       "    </tr>\n",
       "  </thead>\n",
       "  <tbody>\n",
       "    <tr>\n",
       "      <th>0</th>\n",
       "      <td>5412</td>\n",
       "      <td>2683</td>\n",
       "      <td>2</td>\n",
       "      <td>960243649</td>\n",
       "      <td>1</td>\n",
       "    </tr>\n",
       "    <tr>\n",
       "      <th>1</th>\n",
       "      <td>5440</td>\n",
       "      <td>904</td>\n",
       "      <td>5</td>\n",
       "      <td>959995181</td>\n",
       "      <td>1</td>\n",
       "    </tr>\n",
       "    <tr>\n",
       "      <th>2</th>\n",
       "      <td>368</td>\n",
       "      <td>3717</td>\n",
       "      <td>4</td>\n",
       "      <td>976311423</td>\n",
       "      <td>1</td>\n",
       "    </tr>\n",
       "    <tr>\n",
       "      <th>3</th>\n",
       "      <td>425</td>\n",
       "      <td>1721</td>\n",
       "      <td>4</td>\n",
       "      <td>976283587</td>\n",
       "      <td>1</td>\n",
       "    </tr>\n",
       "    <tr>\n",
       "      <th>4</th>\n",
       "      <td>4942</td>\n",
       "      <td>3697</td>\n",
       "      <td>1</td>\n",
       "      <td>962642480</td>\n",
       "      <td>1</td>\n",
       "    </tr>\n",
       "    <tr>\n",
       "      <th>...</th>\n",
       "      <td>...</td>\n",
       "      <td>...</td>\n",
       "      <td>...</td>\n",
       "      <td>...</td>\n",
       "      <td>...</td>\n",
       "    </tr>\n",
       "    <tr>\n",
       "      <th>1000204</th>\n",
       "      <td>1586</td>\n",
       "      <td>1077</td>\n",
       "      <td>5</td>\n",
       "      <td>974735719</td>\n",
       "      <td>5</td>\n",
       "    </tr>\n",
       "    <tr>\n",
       "      <th>1000205</th>\n",
       "      <td>2129</td>\n",
       "      <td>2700</td>\n",
       "      <td>5</td>\n",
       "      <td>974643199</td>\n",
       "      <td>5</td>\n",
       "    </tr>\n",
       "    <tr>\n",
       "      <th>1000206</th>\n",
       "      <td>854</td>\n",
       "      <td>3102</td>\n",
       "      <td>3</td>\n",
       "      <td>975355597</td>\n",
       "      <td>5</td>\n",
       "    </tr>\n",
       "    <tr>\n",
       "      <th>1000207</th>\n",
       "      <td>4033</td>\n",
       "      <td>3479</td>\n",
       "      <td>5</td>\n",
       "      <td>965525805</td>\n",
       "      <td>5</td>\n",
       "    </tr>\n",
       "    <tr>\n",
       "      <th>1000208</th>\n",
       "      <td>786</td>\n",
       "      <td>1391</td>\n",
       "      <td>4</td>\n",
       "      <td>975429588</td>\n",
       "      <td>5</td>\n",
       "    </tr>\n",
       "  </tbody>\n",
       "</table>\n",
       "<p>1000209 rows × 5 columns</p>\n",
       "</div>"
      ],
      "text/plain": [
       "         user_id  Movie_Id  Ratings  Time_stamp Fold\n",
       "0           5412      2683        2   960243649    1\n",
       "1           5440       904        5   959995181    1\n",
       "2            368      3717        4   976311423    1\n",
       "3            425      1721        4   976283587    1\n",
       "4           4942      3697        1   962642480    1\n",
       "...          ...       ...      ...         ...  ...\n",
       "1000204     1586      1077        5   974735719    5\n",
       "1000205     2129      2700        5   974643199    5\n",
       "1000206      854      3102        3   975355597    5\n",
       "1000207     4033      3479        5   965525805    5\n",
       "1000208      786      1391        4   975429588    5\n",
       "\n",
       "[1000209 rows x 5 columns]"
      ]
     },
     "execution_count": 104,
     "metadata": {},
     "output_type": "execute_result"
    }
   ],
   "source": [
    "# data.loc[data['Fold']== 5]\n",
    "data"
   ]
  },
  {
   "cell_type": "code",
   "execution_count": 84,
   "id": "e083d095-ba7f-4f0a-8dc1-6d02efee7a1f",
   "metadata": {},
   "outputs": [],
   "source": [
    "data.reset_index(inplace = True)"
   ]
  },
  {
   "cell_type": "code",
   "execution_count": 110,
   "id": "9c6034b3-7c0a-4eff-beee-433deb2f554a",
   "metadata": {},
   "outputs": [],
   "source": [
    "class MatrixFactorization:\n",
    "    def __init__(self,user_size,item_size):\n",
    "        #initilaze two matrixes that then multiply by each other to give a matrix of ratings\n",
    "        self.user_matrix = np.random.rand(user_size,10)\n",
    "        self.item_matrix = np.random.rand(item_size,10)\n",
    "    def fit(self,x, learning_rate = 0.005, lamb = 0.05, n_iter = 2):\n",
    "        for it in range(n_iter):\n",
    "            for i in range(len(x)):\n",
    "                user = x.loc[i]['user_id']\n",
    "                item = x.loc[i]['Movie_Id']\n",
    "\n",
    "                #calculate the error\n",
    "                error = x.loc[i]['Ratings'] - np.matmul(self.user_matrix[user],self.item_matrix[item])\n",
    "                # update values\n",
    "                self.user_matrix[user] = self.user_matrix[user] + learning_rate*(error*self.item_matrix[item] - lamb*self.user_matrix[user])\n",
    "                self.item_matrix[item] = self.item_matrix[item] + learning_rate*(error*self.user_matrix[user] - lamb*self.item_matrix[item])\n",
    "        print('current iteration ended: '+str(it))\n",
    "    def test(self,x):\n",
    "        predictions = []\n",
    "        for i in range(len(x)):\n",
    "            user = x.loc[i]['user_id']\n",
    "            item = x.loc[i]['Movie_Id']\n",
    "\n",
    "            #calculate the error\n",
    "            pred = np.matmul(self.user_matrix[user],self.item_matrix[item])\n",
    "            predictions.append(pred)\n",
    "        labels = np.array(x['Ratings'])\n",
    "        predictions = np.array(predictions)\n",
    "        rmse =  mean_squared_error(labels,predictions, squared = False)\n",
    "        mse = mean_absolute_error(labels,predictions)\n",
    "\n",
    "        return rmse, mse"
   ]
  },
  {
   "cell_type": "code",
   "execution_count": 96,
   "id": "76998d38-7469-4559-bbaf-21884a204ef0",
   "metadata": {},
   "outputs": [],
   "source": [
    "mt = MatrixFactorization(6041,3953)"
   ]
  },
  {
   "cell_type": "code",
   "execution_count": 98,
   "id": "96733a69-ec9d-4d58-b26b-4b86cfdcb473",
   "metadata": {},
   "outputs": [
    {
     "ename": "KeyboardInterrupt",
     "evalue": "",
     "output_type": "error",
     "traceback": [
      "\u001b[1;31m---------------------------------------------------------------------------\u001b[0m",
      "\u001b[1;31mKeyboardInterrupt\u001b[0m                         Traceback (most recent call last)",
      "File \u001b[1;32m<timed eval>:1\u001b[0m\n",
      "Cell \u001b[1;32mIn[95], line 15\u001b[0m, in \u001b[0;36mMatrixFactorization.fit\u001b[1;34m(self, x, learning_rate, lamb, n_iter)\u001b[0m\n\u001b[0;32m     13\u001b[0m         error \u001b[38;5;241m=\u001b[39m x\u001b[38;5;241m.\u001b[39mloc[i][\u001b[38;5;124m'\u001b[39m\u001b[38;5;124mRatings\u001b[39m\u001b[38;5;124m'\u001b[39m] \u001b[38;5;241m-\u001b[39m np\u001b[38;5;241m.\u001b[39mmatmul(\u001b[38;5;28mself\u001b[39m\u001b[38;5;241m.\u001b[39muser_matrix[user],\u001b[38;5;28mself\u001b[39m\u001b[38;5;241m.\u001b[39mitem_matrix[item])\n\u001b[0;32m     14\u001b[0m         \u001b[38;5;66;03m# update values\u001b[39;00m\n\u001b[1;32m---> 15\u001b[0m         \u001b[38;5;28;43mself\u001b[39;49m\u001b[38;5;241;43m.\u001b[39;49m\u001b[43muser_matrix\u001b[49m\u001b[43m[\u001b[49m\u001b[43muser\u001b[49m\u001b[43m]\u001b[49m \u001b[38;5;241m=\u001b[39m \u001b[38;5;28mself\u001b[39m\u001b[38;5;241m.\u001b[39muser_matrix[user] \u001b[38;5;241m+\u001b[39m learning_rate\u001b[38;5;241m*\u001b[39m(error\u001b[38;5;241m*\u001b[39m\u001b[38;5;28mself\u001b[39m\u001b[38;5;241m.\u001b[39mitem_matrix[item] \u001b[38;5;241m-\u001b[39m lamb\u001b[38;5;241m*\u001b[39m\u001b[38;5;28mself\u001b[39m\u001b[38;5;241m.\u001b[39muser_matrix[user])\n\u001b[0;32m     16\u001b[0m         \u001b[38;5;28mself\u001b[39m\u001b[38;5;241m.\u001b[39mitem_matrix[item] \u001b[38;5;241m=\u001b[39m \u001b[38;5;28mself\u001b[39m\u001b[38;5;241m.\u001b[39mitem_matrix[item] \u001b[38;5;241m+\u001b[39m learning_rate\u001b[38;5;241m*\u001b[39m(error\u001b[38;5;241m*\u001b[39m\u001b[38;5;28mself\u001b[39m\u001b[38;5;241m.\u001b[39muser_matrix[user] \u001b[38;5;241m-\u001b[39m lamb\u001b[38;5;241m*\u001b[39m\u001b[38;5;28mself\u001b[39m\u001b[38;5;241m.\u001b[39mitem_matrix[item])\n\u001b[0;32m     17\u001b[0m \u001b[38;5;28mprint\u001b[39m(\u001b[38;5;124m'\u001b[39m\u001b[38;5;124mcurrent iteration: \u001b[39m\u001b[38;5;124m'\u001b[39m\u001b[38;5;241m+\u001b[39m\u001b[38;5;28mstr\u001b[39m(it))\n",
      "\u001b[1;31mKeyboardInterrupt\u001b[0m: "
     ]
    }
   ],
   "source": [
    "%%time\n",
    "mt.fit(rating_df,n_iter = 1 )"
   ]
  },
  {
   "cell_type": "code",
   "execution_count": 91,
   "id": "c76d9441-b92e-484e-8946-9f384cd62e77",
   "metadata": {},
   "outputs": [
    {
     "data": {
      "text/plain": [
       "array([2, 5, 4, ..., 3, 5, 4], dtype=int64)"
      ]
     },
     "execution_count": 91,
     "metadata": {},
     "output_type": "execute_result"
    }
   ],
   "source": [
    "np.array(data['Ratings'])"
   ]
  },
  {
   "cell_type": "code",
   "execution_count": 69,
   "id": "24b2092a-c884-42bb-b8fc-45268374d4c6",
   "metadata": {},
   "outputs": [
    {
     "data": {
      "text/plain": [
       "array([[1.        , 1.        , 1.        , ..., 1.        , 1.        ,\n",
       "        1.        ],\n",
       "       [0.20888081, 0.20888081, 0.20888081, ..., 0.20888081, 0.20888081,\n",
       "        0.20888081],\n",
       "       [0.09690053, 0.09690053, 0.09690053, ..., 0.09690053, 0.09690053,\n",
       "        0.09690053],\n",
       "       ...,\n",
       "       [0.99865908, 0.99865908, 0.99865908, ..., 0.99865908, 0.99865908,\n",
       "        0.99865908],\n",
       "       [0.96198413, 0.96198413, 0.96198413, ..., 0.96198413, 0.96198413,\n",
       "        0.96198413],\n",
       "       [0.79187219, 0.79187219, 0.79187219, ..., 0.79187219, 0.79187219,\n",
       "        0.79187219]])"
      ]
     },
     "execution_count": 69,
     "metadata": {},
     "output_type": "execute_result"
    }
   ],
   "source": [
    "mt.user_matrix root mean square error and MAE"
   ]
  },
  {
   "cell_type": "code",
   "execution_count": 112,
   "id": "8c6328e1-659e-4063-a23c-873c0f346b1b",
   "metadata": {},
   "outputs": [
    {
     "name": "stdout",
     "output_type": "stream",
     "text": [
      "Fitting the fold: 1\n",
      "current iteration ended: 1\n",
      "Fold 1 RMSE: 0.9348465562690712 \n",
      " MSE: 0.7452372221719877\n",
      "Fitting the fold: 2\n",
      "current iteration ended: 1\n",
      "Fold 2 RMSE: 0.9299440091706563 \n",
      " MSE: 0.7406167068105701\n",
      "Fitting the fold: 3\n",
      "current iteration ended: 1\n",
      "Fold 3 RMSE: 0.9292214862910607 \n",
      " MSE: 0.7395162109234338\n",
      "Fitting the fold: 4\n",
      "current iteration ended: 1\n",
      "Fold 4 RMSE: 0.9313222016108349 \n",
      " MSE: 0.7411128144181096\n",
      "Fitting the fold: 5\n",
      "current iteration ended: 1\n",
      "Fold 5 RMSE: 0.9320634503794772 \n",
      " MSE: 0.7406185208757\n",
      "Mean results:\n",
      "RMSE: 0.9314795407442201 \n",
      "MAE: 0.7414202950399602\n"
     ]
    }
   ],
   "source": [
    "c_rmse = 10000\n",
    "user_params = None\n",
    "item_params = None\n",
    "rmse_list = []\n",
    "mae_list = []\n",
    "for i in range(1,6):\n",
    "    train = data.loc[data['Fold'] != i ]\n",
    "    # print(train)\n",
    "    train = train.reset_index()\n",
    "    valid = data.loc[data['Fold'] == i ] \n",
    "    valid = valid.reset_index()\n",
    "    mt = MatrixFactorization(6041,3953)\n",
    "    # print(train)\n",
    "    print('Fitting the fold: ' + str(i))\n",
    "    mt.fit(train)\n",
    "    rmse, mae = mt.test(valid)\n",
    "    print(f\"Fold {i} RMSE: {rmse} \\n MSE: {mae}\")\n",
    "    rmse_list.append(rmse)\n",
    "    mae_list.append(mae)\n",
    "print(f'Mean results:\\nRMSE: {np.mean(np.array(rmse_list))} \\nMAE: {np.mean(np.array(mae_list))}')\n",
    "    # if rmse < c_rmse:\n",
    "    #     user_params = mt.user_matrix\n",
    "    #     item_params = mt.item_matrix"
   ]
  },
  {
   "cell_type": "code",
   "execution_count": 84,
   "id": "7ffbee7a-04ff-43ce-b06b-0a49768cd820",
   "metadata": {},
   "outputs": [
    {
     "data": {
      "text/html": [
       "<div>\n",
       "<style scoped>\n",
       "    .dataframe tbody tr th:only-of-type {\n",
       "        vertical-align: middle;\n",
       "    }\n",
       "\n",
       "    .dataframe tbody tr th {\n",
       "        vertical-align: top;\n",
       "    }\n",
       "\n",
       "    .dataframe thead th {\n",
       "        text-align: right;\n",
       "    }\n",
       "</style>\n",
       "<table border=\"1\" class=\"dataframe\">\n",
       "  <thead>\n",
       "    <tr style=\"text-align: right;\">\n",
       "      <th></th>\n",
       "      <th>user_id</th>\n",
       "      <th>Movie_Id</th>\n",
       "      <th>Ratings</th>\n",
       "      <th>Time_stamp</th>\n",
       "      <th>Fold</th>\n",
       "    </tr>\n",
       "  </thead>\n",
       "  <tbody>\n",
       "    <tr>\n",
       "      <th>0</th>\n",
       "      <td>5412</td>\n",
       "      <td>2683</td>\n",
       "      <td>2</td>\n",
       "      <td>960243649</td>\n",
       "      <td>1</td>\n",
       "    </tr>\n",
       "    <tr>\n",
       "      <th>1</th>\n",
       "      <td>5440</td>\n",
       "      <td>904</td>\n",
       "      <td>5</td>\n",
       "      <td>959995181</td>\n",
       "      <td>1</td>\n",
       "    </tr>\n",
       "    <tr>\n",
       "      <th>2</th>\n",
       "      <td>368</td>\n",
       "      <td>3717</td>\n",
       "      <td>4</td>\n",
       "      <td>976311423</td>\n",
       "      <td>1</td>\n",
       "    </tr>\n",
       "    <tr>\n",
       "      <th>3</th>\n",
       "      <td>425</td>\n",
       "      <td>1721</td>\n",
       "      <td>4</td>\n",
       "      <td>976283587</td>\n",
       "      <td>1</td>\n",
       "    </tr>\n",
       "    <tr>\n",
       "      <th>4</th>\n",
       "      <td>4942</td>\n",
       "      <td>3697</td>\n",
       "      <td>1</td>\n",
       "      <td>962642480</td>\n",
       "      <td>1</td>\n",
       "    </tr>\n",
       "    <tr>\n",
       "      <th>...</th>\n",
       "      <td>...</td>\n",
       "      <td>...</td>\n",
       "      <td>...</td>\n",
       "      <td>...</td>\n",
       "      <td>...</td>\n",
       "    </tr>\n",
       "    <tr>\n",
       "      <th>1000204</th>\n",
       "      <td>1586</td>\n",
       "      <td>1077</td>\n",
       "      <td>5</td>\n",
       "      <td>974735719</td>\n",
       "      <td>5</td>\n",
       "    </tr>\n",
       "    <tr>\n",
       "      <th>1000205</th>\n",
       "      <td>2129</td>\n",
       "      <td>2700</td>\n",
       "      <td>5</td>\n",
       "      <td>974643199</td>\n",
       "      <td>5</td>\n",
       "    </tr>\n",
       "    <tr>\n",
       "      <th>1000206</th>\n",
       "      <td>854</td>\n",
       "      <td>3102</td>\n",
       "      <td>3</td>\n",
       "      <td>975355597</td>\n",
       "      <td>5</td>\n",
       "    </tr>\n",
       "    <tr>\n",
       "      <th>1000207</th>\n",
       "      <td>4033</td>\n",
       "      <td>3479</td>\n",
       "      <td>5</td>\n",
       "      <td>965525805</td>\n",
       "      <td>5</td>\n",
       "    </tr>\n",
       "    <tr>\n",
       "      <th>1000208</th>\n",
       "      <td>786</td>\n",
       "      <td>1391</td>\n",
       "      <td>4</td>\n",
       "      <td>975429588</td>\n",
       "      <td>5</td>\n",
       "    </tr>\n",
       "  </tbody>\n",
       "</table>\n",
       "<p>1000209 rows × 5 columns</p>\n",
       "</div>"
      ],
      "text/plain": [
       "         user_id  Movie_Id  Ratings  Time_stamp Fold\n",
       "0           5412      2683        2   960243649    1\n",
       "1           5440       904        5   959995181    1\n",
       "2            368      3717        4   976311423    1\n",
       "3            425      1721        4   976283587    1\n",
       "4           4942      3697        1   962642480    1\n",
       "...          ...       ...      ...         ...  ...\n",
       "1000204     1586      1077        5   974735719    5\n",
       "1000205     2129      2700        5   974643199    5\n",
       "1000206      854      3102        3   975355597    5\n",
       "1000207     4033      3479        5   965525805    5\n",
       "1000208      786      1391        4   975429588    5\n",
       "\n",
       "[1000209 rows x 5 columns]"
      ]
     },
     "execution_count": 84,
     "metadata": {},
     "output_type": "execute_result"
    }
   ],
   "source": [
    "data"
   ]
  },
  {
   "cell_type": "code",
   "execution_count": null,
   "id": "c0efe217-15a6-42ed-b368-89ba7204ad77",
   "metadata": {},
   "outputs": [],
   "source": []
  }
 ],
 "metadata": {
  "kernelspec": {
   "display_name": "Python 3 (ipykernel)",
   "language": "python",
   "name": "python3"
  },
  "language_info": {
   "codemirror_mode": {
    "name": "ipython",
    "version": 3
   },
   "file_extension": ".py",
   "mimetype": "text/x-python",
   "name": "python",
   "nbconvert_exporter": "python",
   "pygments_lexer": "ipython3",
   "version": "3.9.13"
  }
 },
 "nbformat": 4,
 "nbformat_minor": 5
}
