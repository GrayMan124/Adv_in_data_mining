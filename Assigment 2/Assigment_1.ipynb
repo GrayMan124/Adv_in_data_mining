{
 "cells": [
  {
   "cell_type": "code",
   "execution_count": 64,
   "id": "4aa3d185-423d-4881-b00d-20343b8ab1b5",
   "metadata": {},
   "outputs": [],
   "source": [
    "import numpy as np \n",
    "import numpy as np\n",
    "from scipy.sparse import csr_matrix\n",
    "import pandas as pd"
   ]
  },
  {
   "cell_type": "code",
   "execution_count": 23,
   "id": "2fde800d-060e-4c43-874f-210177d0b15f",
   "metadata": {},
   "outputs": [],
   "source": [
    "data_set = np.load('user_movie_rating.npy')"
   ]
  },
  {
   "cell_type": "code",
   "execution_count": 65,
   "id": "43822b9a-fa9a-451b-bd3f-0fc540bb08f1",
   "metadata": {},
   "outputs": [],
   "source": [
    "df = pd.DataFrame(data_set)"
   ]
  },
  {
   "cell_type": "code",
   "execution_count": 71,
   "id": "124810fc-836e-4793-8faa-fdfaa94984ed",
   "metadata": {},
   "outputs": [],
   "source": [
    "df.rename(columns=  {0:'user_id',1:'movie_id',2:'rating'},inplace = True)"
   ]
  },
  {
   "cell_type": "code",
   "execution_count": 26,
   "id": "368ac130-c6f4-444c-a6be-cf53bb33a4bb",
   "metadata": {},
   "outputs": [
    {
     "data": {
      "text/plain": [
       "array([[     1,     30,      3],\n",
       "       [     1,    157,      3],\n",
       "       [     1,    173,      4],\n",
       "       ...,\n",
       "       [103703,  17622,      2],\n",
       "       [103703,  17627,      4],\n",
       "       [103703,  17764,      4]], dtype=int64)"
      ]
     },
     "execution_count": 26,
     "metadata": {},
     "output_type": "execute_result"
    }
   ],
   "source": [
    "df_p"
   ]
  },
  {
   "cell_type": "code",
   "execution_count": 7,
   "id": "8539bfa1-8032-4bad-b908-3d620349ce58",
   "metadata": {},
   "outputs": [],
   "source": [
    "test_array = np.random.randint(0,2,size = [10,5])"
   ]
  },
  {
   "cell_type": "code",
   "execution_count": 27,
   "id": "0047d41b-577f-4d54-85f8-392b3935aeff",
   "metadata": {},
   "outputs": [],
   "source": [
    "tmp = test_array"
   ]
  },
  {
   "cell_type": "code",
   "execution_count": 16,
   "id": "a21918d0-0c10-43eb-87a4-227378e4dcc5",
   "metadata": {},
   "outputs": [],
   "source": [
    "perm = np.arange(10)"
   ]
  },
  {
   "cell_type": "code",
   "execution_count": 49,
   "id": "3c91f028-ea46-4eaf-b588-89b44093e4ba",
   "metadata": {},
   "outputs": [],
   "source": [
    "np.random.shuffle(perm)"
   ]
  },
  {
   "cell_type": "code",
   "execution_count": 50,
   "id": "a1bd24d9-ee38-46d1-8c79-7c47f410708d",
   "metadata": {},
   "outputs": [
    {
     "data": {
      "text/plain": [
       "array([9, 4, 2, 6, 8, 1, 0, 5, 3, 7])"
      ]
     },
     "execution_count": 50,
     "metadata": {},
     "output_type": "execute_result"
    }
   ],
   "source": [
    "perm"
   ]
  },
  {
   "cell_type": "code",
   "execution_count": 51,
   "id": "aeed4804-2bb7-4567-9044-b8b7a5905fa1",
   "metadata": {},
   "outputs": [],
   "source": [
    "permuted_tmp = tmp[perm]"
   ]
  },
  {
   "cell_type": "code",
   "execution_count": 52,
   "id": "2736bca6-e93c-4686-9218-24892388a31e",
   "metadata": {},
   "outputs": [
    {
     "data": {
      "text/plain": [
       "array([[0, 1, 0, 1, 1],\n",
       "       [1, 0, 1, 1, 1],\n",
       "       [1, 0, 0, 1, 0],\n",
       "       [0, 1, 1, 1, 0],\n",
       "       [0, 0, 0, 0, 1],\n",
       "       [1, 0, 1, 1, 0],\n",
       "       [1, 0, 1, 0, 1],\n",
       "       [1, 1, 1, 1, 1],\n",
       "       [1, 1, 0, 0, 0],\n",
       "       [1, 1, 0, 1, 1]])"
      ]
     },
     "execution_count": 52,
     "metadata": {},
     "output_type": "execute_result"
    }
   ],
   "source": [
    "permuted_tmp"
   ]
  },
  {
   "cell_type": "code",
   "execution_count": 53,
   "id": "df931dd7-1b25-4da9-8a42-e171b22027ef",
   "metadata": {},
   "outputs": [
    {
     "data": {
      "text/plain": [
       "array([1, 0, 1, 0, 0], dtype=int64)"
      ]
     },
     "execution_count": 53,
     "metadata": {},
     "output_type": "execute_result"
    }
   ],
   "source": [
    "np.argmax(permuted_tmp,axis = 0)"
   ]
  },
  {
   "cell_type": "code",
   "execution_count": null,
   "id": "e2b9d048-ba4f-4b55-b4b9-c96ba253fe5b",
   "metadata": {},
   "outputs": [],
   "source": []
  }
 ],
 "metadata": {
  "kernelspec": {
   "display_name": "Python 3 (ipykernel)",
   "language": "python",
   "name": "python3"
  },
  "language_info": {
   "codemirror_mode": {
    "name": "ipython",
    "version": 3
   },
   "file_extension": ".py",
   "mimetype": "text/x-python",
   "name": "python",
   "nbconvert_exporter": "python",
   "pygments_lexer": "ipython3",
   "version": "3.9.13"
  }
 },
 "nbformat": 4,
 "nbformat_minor": 5
}
