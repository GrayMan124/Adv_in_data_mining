{
 "cells": [
  {
   "cell_type": "code",
   "execution_count": 1,
   "id": "4aa3d185-423d-4881-b00d-20343b8ab1b5",
   "metadata": {},
   "outputs": [],
   "source": [
    "import numpy as np \n",
    "import numpy as np\n",
    "from scipy.sparse import csr_matrix, coo_matrix\n",
    "import pandas as pd\n",
    "import collections\n",
    "from random import shuffle\n",
    "import itertools\n",
    "from tqdm import tqdm"
   ]
  },
  {
   "cell_type": "code",
   "execution_count": 2,
   "id": "f565a5ff-0da0-4f7d-85b6-275089812ca1",
   "metadata": {},
   "outputs": [],
   "source": [
    "tmp = collections.defaultdict(set)"
   ]
  },
  {
   "cell_type": "code",
   "execution_count": 37,
   "id": "d4de4422-06e7-4347-bdf0-80361fa00722",
   "metadata": {},
   "outputs": [
    {
     "data": {
      "text/plain": [
       "array([1, 1, 1, 0, 0, 0])"
      ]
     },
     "execution_count": 37,
     "metadata": {},
     "output_type": "execute_result"
    }
   ],
   "source": [
    "np.array(np.array([1,2,3,4,5,6]) == np.array([1,2,3,9,3,5]),dtype = 'i4')"
   ]
  },
  {
   "cell_type": "code",
   "execution_count": 57,
   "id": "1430834f-ee96-4d18-80ab-b4661d0f67a5",
   "metadata": {},
   "outputs": [],
   "source": []
  },
  {
   "cell_type": "code",
   "execution_count": 3,
   "id": "2fde800d-060e-4c43-874f-210177d0b15f",
   "metadata": {},
   "outputs": [],
   "source": [
    "data_set = np.load('user_movie_rating.npy')"
   ]
  },
  {
   "cell_type": "code",
   "execution_count": 4,
   "id": "43822b9a-fa9a-451b-bd3f-0fc540bb08f1",
   "metadata": {},
   "outputs": [],
   "source": [
    "df = pd.DataFrame(data_set)"
   ]
  },
  {
   "cell_type": "code",
   "execution_count": 5,
   "id": "124810fc-836e-4793-8faa-fdfaa94984ed",
   "metadata": {},
   "outputs": [],
   "source": [
    "df.rename(columns=  {0:'user_id',1:'movie_id',2:'rating'},inplace = True)"
   ]
  },
  {
   "cell_type": "markdown",
   "id": "49b9dc62-c6dc-4e38-bc9b-d71dbc4616f0",
   "metadata": {},
   "source": [
    "columns -> users\n",
    "\n",
    "row -> movies \n",
    "\n",
    "We permutate the rows and get their signature which is the signature of the colmuns then -> users that's what we need then"
   ]
  },
  {
   "cell_type": "code",
   "execution_count": 6,
   "id": "d6d5d90e-a09a-41ea-9b0f-3f1e971a258f",
   "metadata": {},
   "outputs": [
    {
     "name": "stdout",
     "output_type": "stream",
     "text": [
      "CPU times: total: 6.69 s\n",
      "Wall time: 12.1 s\n"
     ]
    }
   ],
   "source": [
    "%%time\n",
    "person_u = list(np.sort(df.user_id.unique()).squeeze())\n",
    "thing_u = list(np.sort(df.movie_id.unique()).squeeze())\n",
    "\n",
    "data = df['rating'].astype('bool').astype(int).tolist()\n",
    "# row = person_u\n",
    "# col = thing_u\n",
    "# col\n",
    "col = df.user_id.astype('category').cat.codes\n",
    "row = df.movie_id.astype('category').cat.codes\n",
    "sparse_matrix = csr_matrix((data, (row, col)), shape=(len(thing_u),len(person_u)))"
   ]
  },
  {
   "cell_type": "code",
   "execution_count": 7,
   "id": "adaf85ee-8a37-48ab-ad17-f4172ae85864",
   "metadata": {},
   "outputs": [],
   "source": [
    "# sparse_matrix[2]"
   ]
  },
  {
   "cell_type": "code",
   "execution_count": 8,
   "id": "3bf083d8-27c9-47fc-be06-f3dedfa513c8",
   "metadata": {},
   "outputs": [],
   "source": [
    "tmp = sparse_matrix.getrow(2).todense()"
   ]
  },
  {
   "cell_type": "code",
   "execution_count": 9,
   "id": "a36111b4-ffe5-4bba-a2ed-082050d1c747",
   "metadata": {},
   "outputs": [
    {
     "data": {
      "text/plain": [
       "<17770x103703 sparse matrix of type '<class 'numpy.intc'>'\n",
       "\twith 65225506 stored elements in Compressed Sparse Row format>"
      ]
     },
     "execution_count": 9,
     "metadata": {},
     "output_type": "execute_result"
    }
   ],
   "source": [
    "sparse_matrix"
   ]
  },
  {
   "cell_type": "code",
   "execution_count": 130,
   "id": "7a4cb2ad-a235-49fb-b729-fd811642ec2f",
   "metadata": {},
   "outputs": [
    {
     "name": "stdout",
     "output_type": "stream",
     "text": [
      "CPU times: total: 2min 27s\n",
      "Wall time: 3min 20s\n"
     ]
    }
   ],
   "source": [
    "%%time\n",
    "indices = np.arange(sparse_matrix.shape[0]) #gets the number of rows \n",
    "shuffle(indices)\n",
    "shuffled_matrix = sparse_matrix[list(indices)] \n",
    "arr = np.array(shuffled_matrix.argmax(axis=0))[0,:]\n",
    "sign_matrix = arr\n",
    "for i in range(149):\n",
    "    # indices = np.arange(sparse_matrix.shape[0]) #gets the number of rows \n",
    "    shuffle(indices)\n",
    "    shuffled_matrix = sparse_matrix[list(indices)] \n",
    "    arr = np.array(shuffled_matrix.argmax(axis=0))[0,:]\n",
    "    sign_matrix = np.vstack([sign_matrix,arr])"
   ]
  },
  {
   "cell_type": "code",
   "execution_count": 101,
   "id": "1f4fa8ce-58ff-43b1-a803-686effe530fb",
   "metadata": {},
   "outputs": [
    {
     "data": {
      "text/plain": [
       "(100, 103703)"
      ]
     },
     "execution_count": 101,
     "metadata": {},
     "output_type": "execute_result"
    }
   ],
   "source": [
    "sign_matrix.shape"
   ]
  },
  {
   "cell_type": "code",
   "execution_count": 102,
   "id": "736b3534-4765-40d9-88f8-8973b26772a7",
   "metadata": {},
   "outputs": [
    {
     "data": {
      "text/plain": [
       "array([[ 80,  31,  80, ...,  80, 167,  80],\n",
       "       [ 56,  27,  17, ..., 125,   7, 125],\n",
       "       [  8,  21,  13, ...,   6,  21,   8],\n",
       "       ...,\n",
       "       [  6,   6,   6, ...,  14,   6,  68],\n",
       "       [ 13,  58,  11, ...,  13,  66,  13],\n",
       "       [  3,  14,   3, ...,  37,   0,  26]])"
      ]
     },
     "execution_count": 102,
     "metadata": {},
     "output_type": "execute_result"
    }
   ],
   "source": [
    "sign_matrix[:10]"
   ]
  },
  {
   "cell_type": "code",
   "execution_count": 103,
   "id": "9d24d1d9-04f7-4899-91cf-94c29112fd08",
   "metadata": {},
   "outputs": [
    {
     "ename": "IndentationError",
     "evalue": "expected an indented block (1060968691.py, line 2)",
     "output_type": "error",
     "traceback": [
      "\u001b[1;36m  Cell \u001b[1;32mIn[103], line 2\u001b[1;36m\u001b[0m\n\u001b[1;33m    \u001b[0m\n\u001b[1;37m    ^\u001b[0m\n\u001b[1;31mIndentationError\u001b[0m\u001b[1;31m:\u001b[0m expected an indented block\n"
     ]
    }
   ],
   "source": [
    "def hashing_mod(sign_matrix,buckets,rows,band):\n",
    "    "
   ]
  },
  {
   "cell_type": "code",
   "execution_count": 20,
   "id": "f47ff232-05de-43c1-b181-04b978f4788a",
   "metadata": {},
   "outputs": [],
   "source": [
    "def fastCandidatePairs(sig_mat, b, r):\n",
    "    n, d = sig_mat.shape\n",
    "    # assert(n==b*r)\n",
    "    hashbuckets = collections.defaultdict(set)\n",
    "    bands = np.array_split(sig_mat, b, axis=0)\n",
    "    for i,band in enumerate(bands):\n",
    "        if i %4 == 0 :\n",
    "            print(\"band: \" +str(i))\n",
    "        for j in range(d):\n",
    "            # The last value must be made a string, to prevent accidental\n",
    "            # key collisions of r+1 integers when we really only want\n",
    "            # keys of r integers plus a band index\n",
    "            band_id = tuple(list(band[:,j])+[str(i)])\n",
    "            hashbuckets[band_id].add(j)\n",
    "    candidate_pairs = set()\n",
    "    # for bucket in hashbuckets.values():\n",
    "    #     if len(bucket) > 1:\n",
    "    #         for pair in itertools.combinations(bucket, 2):\n",
    "    #             candidate_pairs.add(pair)\n",
    "    return hashbuckets.values()"
   ]
  },
  {
   "cell_type": "code",
   "execution_count": 145,
   "id": "8002b3b8-aea7-44cc-9c9e-006d40247d74",
   "metadata": {},
   "outputs": [
    {
     "name": "stdout",
     "output_type": "stream",
     "text": [
      "band: 0\n",
      "band: 4\n",
      "band: 8\n",
      "band: 12\n",
      "CPU times: total: 1.94 s\n",
      "Wall time: 4.03 s\n"
     ]
    }
   ],
   "source": [
    "%%time\n",
    "tmp = fastCandidatePairs(sign_matrix,15,10)"
   ]
  },
  {
   "cell_type": "code",
   "execution_count": null,
   "id": "cd2f5a99-b8ca-4606-aa93-4c6f49b34ab5",
   "metadata": {
    "scrolled": true
   },
   "outputs": [
    {
     "name": "stderr",
     "output_type": "stream",
     "text": [
      " 99%|███████████████████████████████████████████████████████████████████████▌| 1524414/1533311 [03:39<03:24, 43.47it/s]"
     ]
    },
    {
     "name": "stdout",
     "output_type": "stream",
     "text": [
      "(51236, 52773)\n"
     ]
    },
    {
     "name": "stderr",
     "output_type": "stream",
     "text": [
      "100%|███████████████████████████████████████████████████████████████████████▋| 1526498/1533311 [06:19<08:34, 13.25it/s]"
     ]
    },
    {
     "name": "stdout",
     "output_type": "stream",
     "text": [
      "(52494, 99903)\n"
     ]
    },
    {
     "name": "stderr",
     "output_type": "stream",
     "text": [
      "100%|███████████████████████████████████████████████████████████████████████▋| 1527023/1533311 [06:59<08:00, 13.08it/s]"
     ]
    },
    {
     "name": "stdout",
     "output_type": "stream",
     "text": [
      "(90296, 53266)\n",
      "(88886, 7623)\n"
     ]
    },
    {
     "name": "stderr",
     "output_type": "stream",
     "text": [
      "100%|███████████████████████████████████████████████████████████████████████▊| 1529757/1533311 [10:37<04:37, 12.83it/s]"
     ]
    },
    {
     "name": "stdout",
     "output_type": "stream",
     "text": [
      "(52494, 99903)\n"
     ]
    },
    {
     "name": "stderr",
     "output_type": "stream",
     "text": [
      "100%|███████████████████████████████████████████████████████████████████████▊| 1529912/1533311 [10:56<12:46,  4.43it/s]"
     ]
    },
    {
     "name": "stdout",
     "output_type": "stream",
     "text": [
      "(16360, 68861)\n"
     ]
    },
    {
     "name": "stderr",
     "output_type": "stream",
     "text": [
      "100%|███████████████████████████████████████████████████████████████████████▊| 1529939/1533311 [11:02<13:00,  4.32it/s]"
     ]
    },
    {
     "name": "stdout",
     "output_type": "stream",
     "text": [
      "(47112, 68344)\n"
     ]
    },
    {
     "name": "stderr",
     "output_type": "stream",
     "text": [
      "100%|███████████████████████████████████████████████████████████████████████▉| 1531899/1533311 [19:52<12:08,  1.94it/s]"
     ]
    },
    {
     "name": "stdout",
     "output_type": "stream",
     "text": [
      "(79225, 18866)\n"
     ]
    },
    {
     "name": "stderr",
     "output_type": "stream",
     "text": [
      "100%|███████████████████████████████████████████████████████████████████████▉| 1532646/1533311 [28:40<13:13,  1.19s/it]"
     ]
    },
    {
     "name": "stdout",
     "output_type": "stream",
     "text": [
      "(51236, 78516)\n"
     ]
    },
    {
     "name": "stderr",
     "output_type": "stream",
     "text": [
      "100%|███████████████████████████████████████████████████████████████████████▉| 1532813/1533311 [32:28<14:02,  1.69s/it]"
     ]
    },
    {
     "name": "stdout",
     "output_type": "stream",
     "text": [
      "(29806, 61876)\n"
     ]
    },
    {
     "name": "stderr",
     "output_type": "stream",
     "text": [
      "100%|███████████████████████████████████████████████████████████████████████▉| 1532948/1533311 [36:40<14:29,  2.39s/it]"
     ]
    },
    {
     "name": "stdout",
     "output_type": "stream",
     "text": [
      "(50435, 47929)\n",
      "(20676, 47929)\n"
     ]
    },
    {
     "name": "stderr",
     "output_type": "stream",
     "text": [
      "100%|████████████████████████████████████████████████████████████████████▉| 1533281/1533311 [13:51:05<43:32, 87.09s/it]"
     ]
    },
    {
     "name": "stdout",
     "output_type": "stream",
     "text": [
      "(36382, 47194)\n"
     ]
    },
    {
     "name": "stderr",
     "output_type": "stream",
     "text": [
      "100%|███████████████████████████████████████████████████████████████████▉| 1533289/1533311 [14:05:12<40:52, 111.45s/it]"
     ]
    }
   ],
   "source": [
    "t = 0\n",
    "found_pairs = []\n",
    "buckets = list(tmp)\n",
    "buckets.sort(key=len)\n",
    "# print(buckets)\n",
    "# print('tego')\n",
    "for bucket in tqdm(buckets):\n",
    "    # print(len(bucket))\n",
    "    t+=1\n",
    "    if len(bucket) >= 2 :\n",
    "        # print(bucket)\n",
    "        for pair in itertools.combinations(bucket, 2):\n",
    "                sim = jacc_sim_base(sparse_matrix, pair[0], pair[1])\n",
    "                if sim > 0.5:\n",
    "                    print(pair)\n",
    "                    found_pairs.append(pair)"
   ]
  },
  {
   "cell_type": "code",
   "execution_count": 137,
   "id": "9f84b188-4974-4aab-bb47-483da722e8ea",
   "metadata": {},
   "outputs": [],
   "source": [
    "a,b = np.random.randint(0,103703,2)"
   ]
  },
  {
   "cell_type": "code",
   "execution_count": 138,
   "id": "fa71f797-a275-485b-a16c-2803117fbe21",
   "metadata": {},
   "outputs": [
    {
     "data": {
      "text/plain": [
       "63825"
      ]
     },
     "execution_count": 138,
     "metadata": {},
     "output_type": "execute_result"
    }
   ],
   "source": []
  },
  {
   "cell_type": "code",
   "execution_count": 140,
   "id": "f5bbe4b4-0acb-4ac8-98d1-5dc8a4de1f06",
   "metadata": {},
   "outputs": [
    {
     "name": "stderr",
     "output_type": "stream",
     "text": [
      "  1%|▌                                                                       | 7245/1000000 [09:49<22:25:34, 12.30it/s]\n"
     ]
    },
    {
     "ename": "KeyboardInterrupt",
     "evalue": "",
     "output_type": "error",
     "traceback": [
      "\u001b[1;31m---------------------------------------------------------------------------\u001b[0m",
      "\u001b[1;31mKeyboardInterrupt\u001b[0m                         Traceback (most recent call last)",
      "Cell \u001b[1;32mIn[140], line 9\u001b[0m\n\u001b[0;32m      7\u001b[0m \u001b[38;5;28;01mfor\u001b[39;00m i \u001b[38;5;129;01min\u001b[39;00m tqdm(\u001b[38;5;28mrange\u001b[39m(\u001b[38;5;241m1000000\u001b[39m)):\n\u001b[0;32m      8\u001b[0m     a,b \u001b[38;5;241m=\u001b[39m np\u001b[38;5;241m.\u001b[39mrandom\u001b[38;5;241m.\u001b[39mrandint(\u001b[38;5;241m0\u001b[39m,\u001b[38;5;241m103703\u001b[39m,\u001b[38;5;241m2\u001b[39m)\n\u001b[1;32m----> 9\u001b[0m     sim \u001b[38;5;241m=\u001b[39m \u001b[43mjacc_sim_base\u001b[49m\u001b[43m(\u001b[49m\u001b[43msparse_matrix\u001b[49m\u001b[43m,\u001b[49m\u001b[43m \u001b[49m\u001b[43ma\u001b[49m\u001b[43m,\u001b[49m\u001b[43m \u001b[49m\u001b[43mb\u001b[49m\u001b[43m)\u001b[49m\n\u001b[0;32m     10\u001b[0m     \u001b[38;5;28;01mif\u001b[39;00m sim \u001b[38;5;241m>\u001b[39m \u001b[38;5;241m0.5\u001b[39m:\n\u001b[0;32m     11\u001b[0m             \u001b[38;5;28mprint\u001b[39m(pair)\n",
      "Cell \u001b[1;32mIn[70], line 3\u001b[0m, in \u001b[0;36mjacc_sim_base\u001b[1;34m(matrix, id_1, id_2)\u001b[0m\n\u001b[0;32m      1\u001b[0m \u001b[38;5;28;01mdef\u001b[39;00m \u001b[38;5;21mjacc_sim_base\u001b[39m(matrix,id_1,id_2):\n\u001b[0;32m      2\u001b[0m     user_1 \u001b[38;5;241m=\u001b[39m np\u001b[38;5;241m.\u001b[39mwhere(matrix\u001b[38;5;241m.\u001b[39mgetcol(id_1)\u001b[38;5;241m.\u001b[39mtodense()\u001b[38;5;241m==\u001b[39m\u001b[38;5;241m1\u001b[39m)[\u001b[38;5;241m0\u001b[39m]\n\u001b[1;32m----> 3\u001b[0m     user_2 \u001b[38;5;241m=\u001b[39m np\u001b[38;5;241m.\u001b[39mwhere(\u001b[43mmatrix\u001b[49m\u001b[38;5;241;43m.\u001b[39;49m\u001b[43mgetcol\u001b[49m\u001b[43m(\u001b[49m\u001b[43mid_2\u001b[49m\u001b[43m)\u001b[49m\u001b[38;5;241m.\u001b[39mtodense()\u001b[38;5;241m==\u001b[39m\u001b[38;5;241m1\u001b[39m)[\u001b[38;5;241m0\u001b[39m]\n\u001b[0;32m      5\u001b[0m     \u001b[38;5;28mall\u001b[39m \u001b[38;5;241m=\u001b[39m np\u001b[38;5;241m.\u001b[39munion1d(user_1,user_2)\n\u001b[0;32m      6\u001b[0m     inter \u001b[38;5;241m=\u001b[39m np\u001b[38;5;241m.\u001b[39mintersect1d(user_1,user_2)\n",
      "File \u001b[1;32m~\\AppData\\Local\\Programs\\Python\\Python39\\lib\\site-packages\\scipy\\sparse\\_matrix.py:133\u001b[0m, in \u001b[0;36mspmatrix.getcol\u001b[1;34m(self, j)\u001b[0m\n\u001b[0;32m    129\u001b[0m \u001b[38;5;28;01mdef\u001b[39;00m \u001b[38;5;21mgetcol\u001b[39m(\u001b[38;5;28mself\u001b[39m, j):\n\u001b[0;32m    130\u001b[0m \u001b[38;5;250m    \u001b[39m\u001b[38;5;124;03m\"\"\"Returns a copy of column j of the array, as an (m x 1) sparse\u001b[39;00m\n\u001b[0;32m    131\u001b[0m \u001b[38;5;124;03m    array (column vector).\u001b[39;00m\n\u001b[0;32m    132\u001b[0m \u001b[38;5;124;03m    \"\"\"\u001b[39;00m\n\u001b[1;32m--> 133\u001b[0m     \u001b[38;5;28;01mreturn\u001b[39;00m \u001b[38;5;28;43mself\u001b[39;49m\u001b[38;5;241;43m.\u001b[39;49m\u001b[43m_getcol\u001b[49m\u001b[43m(\u001b[49m\u001b[43mj\u001b[49m\u001b[43m)\u001b[49m\n",
      "File \u001b[1;32m~\\AppData\\Local\\Programs\\Python\\Python39\\lib\\site-packages\\scipy\\sparse\\_csr.py:279\u001b[0m, in \u001b[0;36m_csr_base._getcol\u001b[1;34m(self, i)\u001b[0m\n\u001b[0;32m    277\u001b[0m \u001b[38;5;28;01mif\u001b[39;00m i \u001b[38;5;241m<\u001b[39m \u001b[38;5;241m0\u001b[39m \u001b[38;5;129;01mor\u001b[39;00m i \u001b[38;5;241m>\u001b[39m\u001b[38;5;241m=\u001b[39m N:\n\u001b[0;32m    278\u001b[0m     \u001b[38;5;28;01mraise\u001b[39;00m \u001b[38;5;167;01mIndexError\u001b[39;00m(\u001b[38;5;124m'\u001b[39m\u001b[38;5;124mindex (\u001b[39m\u001b[38;5;132;01m%d\u001b[39;00m\u001b[38;5;124m) out of range\u001b[39m\u001b[38;5;124m'\u001b[39m \u001b[38;5;241m%\u001b[39m i)\n\u001b[1;32m--> 279\u001b[0m indptr, indices, data \u001b[38;5;241m=\u001b[39m \u001b[43mget_csr_submatrix\u001b[49m\u001b[43m(\u001b[49m\n\u001b[0;32m    280\u001b[0m \u001b[43m    \u001b[49m\u001b[43mM\u001b[49m\u001b[43m,\u001b[49m\u001b[43m \u001b[49m\u001b[43mN\u001b[49m\u001b[43m,\u001b[49m\u001b[43m \u001b[49m\u001b[38;5;28;43mself\u001b[39;49m\u001b[38;5;241;43m.\u001b[39;49m\u001b[43mindptr\u001b[49m\u001b[43m,\u001b[49m\u001b[43m \u001b[49m\u001b[38;5;28;43mself\u001b[39;49m\u001b[38;5;241;43m.\u001b[39;49m\u001b[43mindices\u001b[49m\u001b[43m,\u001b[49m\u001b[43m \u001b[49m\u001b[38;5;28;43mself\u001b[39;49m\u001b[38;5;241;43m.\u001b[39;49m\u001b[43mdata\u001b[49m\u001b[43m,\u001b[49m\u001b[43m \u001b[49m\u001b[38;5;241;43m0\u001b[39;49m\u001b[43m,\u001b[49m\u001b[43m \u001b[49m\u001b[43mM\u001b[49m\u001b[43m,\u001b[49m\u001b[43m \u001b[49m\u001b[43mi\u001b[49m\u001b[43m,\u001b[49m\u001b[43m \u001b[49m\u001b[43mi\u001b[49m\u001b[43m \u001b[49m\u001b[38;5;241;43m+\u001b[39;49m\u001b[43m \u001b[49m\u001b[38;5;241;43m1\u001b[39;49m\u001b[43m)\u001b[49m\n\u001b[0;32m    281\u001b[0m \u001b[38;5;28;01mreturn\u001b[39;00m \u001b[38;5;28mself\u001b[39m\u001b[38;5;241m.\u001b[39m\u001b[38;5;18m__class__\u001b[39m((data, indices, indptr), shape\u001b[38;5;241m=\u001b[39m(M, \u001b[38;5;241m1\u001b[39m),\n\u001b[0;32m    282\u001b[0m                       dtype\u001b[38;5;241m=\u001b[39m\u001b[38;5;28mself\u001b[39m\u001b[38;5;241m.\u001b[39mdtype, copy\u001b[38;5;241m=\u001b[39m\u001b[38;5;28;01mFalse\u001b[39;00m)\n",
      "\u001b[1;31mKeyboardInterrupt\u001b[0m: "
     ]
    }
   ],
   "source": [
    "t = 0\n",
    "found_pairs = []\n",
    "buckets = list(tmp)\n",
    "buckets.sort(key=len)\n",
    "# print(buckets)\n",
    "# print('tego')\n",
    "for i in tqdm(range(1000000)):\n",
    "    a,b = np.random.randint(0,103703,2)\n",
    "    sim = jacc_sim_base(sparse_matrix, a, b)\n",
    "    if sim > 0.5:\n",
    "            print(pair)\n",
    "            found_pairs.append(pair)"
   ]
  },
  {
   "cell_type": "code",
   "execution_count": 70,
   "id": "f442b591-2e65-448e-8f5c-1340edacc0d3",
   "metadata": {},
   "outputs": [],
   "source": [
    "def jacc_sim_base(matrix,id_1,id_2):\n",
    "    user_1 = np.where(matrix.getcol(id_1).todense()==1)[0]\n",
    "    user_2 = np.where(matrix.getcol(id_2).todense()==1)[0]\n",
    "\n",
    "    all = np.union1d(user_1,user_2)\n",
    "    inter = np.intersect1d(user_1,user_2)\n",
    "    # print(np.sum(same_movies))\n",
    "    # print(same_movies.shape[0])\n",
    "    \n",
    "    return inter.shape[0]/all.shape[0]"
   ]
  },
  {
   "cell_type": "code",
   "execution_count": 78,
   "id": "6a9baced-7e7e-4faf-b791-e84a0ec0ecb7",
   "metadata": {},
   "outputs": [
    {
     "name": "stdout",
     "output_type": "stream",
     "text": [
      "Jaccard Similarity: 0.5\n",
      "Cosine Similarity: 0.6399999999999999\n",
      "Discrete Cosine Similarity: 0.6666666666666667\n"
     ]
    }
   ],
   "source": [
    "from A2_sim import jaccard_similarity"
   ]
  },
  {
   "cell_type": "code",
   "execution_count": 93,
   "id": "a97d89e7-93fd-4235-a828-a8c4e45e2061",
   "metadata": {},
   "outputs": [
    {
     "data": {
      "text/plain": [
       "0.4078091106290672"
      ]
     },
     "execution_count": 93,
     "metadata": {},
     "output_type": "execute_result"
    }
   ],
   "source": [
    "jacc_sim_base(sparse_matrix, 59763, 28867)"
   ]
  },
  {
   "cell_type": "code",
   "execution_count": 80,
   "id": "d623a297-523d-4cb9-a81e-294da843866e",
   "metadata": {},
   "outputs": [
    {
     "data": {
      "text/plain": [
       "0.2593068035943517"
      ]
     },
     "execution_count": 80,
     "metadata": {},
     "output_type": "execute_result"
    }
   ],
   "source": [
    "jaccard_similarity(sparse_matrix.getcol(87017).todense(),sparse_matrix.getcol(68).todense())"
   ]
  },
  {
   "cell_type": "code",
   "execution_count": 47,
   "id": "d97eaa4d-2058-4c6b-a524-e7e4f01b73ee",
   "metadata": {},
   "outputs": [],
   "source": [
    "b = 10\n",
    "n, d = sign_matrix.shape\n",
    "# assert(n==b*r)\n",
    "hashbuckets = collections.defaultdict(set)\n",
    "bands = np.array_split(sign_matrix, b, axis=0)"
   ]
  },
  {
   "cell_type": "code",
   "execution_count": 48,
   "id": "fcb70d44-7cdc-4f12-9757-ae87e9ab336c",
   "metadata": {},
   "outputs": [
    {
     "data": {
      "text/plain": [
       "(81, 103703)"
      ]
     },
     "execution_count": 48,
     "metadata": {},
     "output_type": "execute_result"
    }
   ],
   "source": [
    "sign_matrix.shape"
   ]
  },
  {
   "cell_type": "code",
   "execution_count": 49,
   "id": "c134794f-53db-4298-a90f-4180b2e0dbe7",
   "metadata": {},
   "outputs": [
    {
     "data": {
      "text/plain": [
       "(8, 103703)"
      ]
     },
     "execution_count": 49,
     "metadata": {},
     "output_type": "execute_result"
    }
   ],
   "source": [
    "bands[1].shape"
   ]
  },
  {
   "cell_type": "code",
   "execution_count": null,
   "id": "990e516c-9968-47a4-bb75-c54d21904f58",
   "metadata": {},
   "outputs": [],
   "source": []
  },
  {
   "cell_type": "code",
   "execution_count": null,
   "id": "f4f34f07-0ab9-440d-a43d-bd90236166bb",
   "metadata": {},
   "outputs": [],
   "source": []
  },
  {
   "cell_type": "code",
   "execution_count": null,
   "id": "242c8ef2-b27f-49fa-8b3f-92bc870b575d",
   "metadata": {},
   "outputs": [],
   "source": []
  },
  {
   "cell_type": "code",
   "execution_count": null,
   "id": "e1df9f90-5aa1-45c0-88c3-e5baafc41b03",
   "metadata": {},
   "outputs": [],
   "source": []
  },
  {
   "cell_type": "code",
   "execution_count": null,
   "id": "5e2330d5-af2f-44bb-9ece-c24983578f09",
   "metadata": {},
   "outputs": [],
   "source": []
  },
  {
   "cell_type": "code",
   "execution_count": 96,
   "id": "b77e5e4f-55a0-4c4f-b69b-3da87c6f5222",
   "metadata": {},
   "outputs": [
    {
     "data": {
      "text/plain": [
       "(103703,)"
      ]
     },
     "execution_count": 96,
     "metadata": {},
     "output_type": "execute_result"
    }
   ],
   "source": []
  },
  {
   "cell_type": "code",
   "execution_count": null,
   "id": "e2b9d048-ba4f-4b55-b4b9-c96ba253fe5b",
   "metadata": {},
   "outputs": [],
   "source": []
  }
 ],
 "metadata": {
  "kernelspec": {
   "display_name": "Python 3 (ipykernel)",
   "language": "python",
   "name": "python3"
  },
  "language_info": {
   "codemirror_mode": {
    "name": "ipython",
    "version": 3
   },
   "file_extension": ".py",
   "mimetype": "text/x-python",
   "name": "python",
   "nbconvert_exporter": "python",
   "pygments_lexer": "ipython3",
   "version": "3.9.13"
  }
 },
 "nbformat": 4,
 "nbformat_minor": 5
}
