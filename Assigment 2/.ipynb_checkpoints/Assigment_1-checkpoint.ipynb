{
 "cells": [
  {
   "cell_type": "code",
   "execution_count": 33,
   "id": "4aa3d185-423d-4881-b00d-20343b8ab1b5",
   "metadata": {},
   "outputs": [],
   "source": [
    "import numpy as np \n",
    "import numpy as np\n",
    "from scipy.sparse import csr_matrix, coo_matrix\n",
    "import pandas as pd\n",
    "import collections\n",
    "from random import shuffle\n",
    "import itertools"
   ]
  },
  {
   "cell_type": "code",
   "execution_count": 4,
   "id": "f565a5ff-0da0-4f7d-85b6-275089812ca1",
   "metadata": {},
   "outputs": [],
   "source": [
    "tmp = collections.defaultdict(set)"
   ]
  },
  {
   "cell_type": "code",
   "execution_count": 34,
   "id": "1430834f-ee96-4d18-80ab-b4661d0f67a5",
   "metadata": {},
   "outputs": [],
   "source": [
    "def fastCandidatePairs(sig_mat, b, r):\n",
    "    n, d = sig_mat.shape\n",
    "    # assert(n==b*r)\n",
    "    hashbuckets = collections.defaultdict(set)\n",
    "    bands = np.array_split(sig_mat, b, axis=0)\n",
    "    for i,band in enumerate(bands):\n",
    "        if i %10 == 0 :\n",
    "            print(\"band: \" +str(i))\n",
    "        for j in range(d):\n",
    "            # The last value must be made a string, to prevent accidental\n",
    "            # key collisions of r+1 integers when we really only want\n",
    "            # keys of r integers plus a band index\n",
    "            band_id = tuple(list(band[:,j])+[str(i)])\n",
    "            hashbuckets[band_id].add(j)\n",
    "    candidate_pairs = set()\n",
    "    for bucket in hashbuckets.values():\n",
    "        if len(bucket) > 1:\n",
    "            for pair in itertools.combinations(bucket, 2):\n",
    "                candidate_pairs.add(pair)\n",
    "    return candidate_pairs\n"
   ]
  },
  {
   "cell_type": "code",
   "execution_count": 7,
   "id": "98ce292a-b17b-4844-939d-83f25a4af68a",
   "metadata": {},
   "outputs": [
    {
     "ename": "NameError",
     "evalue": "name 'torch' is not defined",
     "output_type": "error",
     "traceback": [
      "\u001b[1;31m---------------------------------------------------------------------------\u001b[0m",
      "\u001b[1;31mNameError\u001b[0m                                 Traceback (most recent call last)",
      "Cell \u001b[1;32mIn[7], line 1\u001b[0m\n\u001b[1;32m----> 1\u001b[0m \u001b[43mtorch\u001b[49m\u001b[38;5;241m.\u001b[39mcuda\u001b[38;5;241m.\u001b[39mis_available()\n",
      "\u001b[1;31mNameError\u001b[0m: name 'torch' is not defined"
     ]
    }
   ],
   "source": [
    "torch.cuda.is_available()"
   ]
  },
  {
   "cell_type": "code",
   "execution_count": 8,
   "id": "2fde800d-060e-4c43-874f-210177d0b15f",
   "metadata": {},
   "outputs": [],
   "source": [
    "data_set = np.load('user_movie_rating.npy')"
   ]
  },
  {
   "cell_type": "code",
   "execution_count": 9,
   "id": "43822b9a-fa9a-451b-bd3f-0fc540bb08f1",
   "metadata": {},
   "outputs": [],
   "source": [
    "df = pd.DataFrame(data_set)"
   ]
  },
  {
   "cell_type": "code",
   "execution_count": 10,
   "id": "124810fc-836e-4793-8faa-fdfaa94984ed",
   "metadata": {},
   "outputs": [],
   "source": [
    "df.rename(columns=  {0:'user_id',1:'movie_id',2:'rating'},inplace = True)"
   ]
  },
  {
   "cell_type": "code",
   "execution_count": 11,
   "id": "471209ea-a389-439a-8f46-78ee8926a908",
   "metadata": {},
   "outputs": [
    {
     "data": {
      "text/html": [
       "<div>\n",
       "<style scoped>\n",
       "    .dataframe tbody tr th:only-of-type {\n",
       "        vertical-align: middle;\n",
       "    }\n",
       "\n",
       "    .dataframe tbody tr th {\n",
       "        vertical-align: top;\n",
       "    }\n",
       "\n",
       "    .dataframe thead th {\n",
       "        text-align: right;\n",
       "    }\n",
       "</style>\n",
       "<table border=\"1\" class=\"dataframe\">\n",
       "  <thead>\n",
       "    <tr style=\"text-align: right;\">\n",
       "      <th></th>\n",
       "      <th>user_id</th>\n",
       "      <th>movie_id</th>\n",
       "      <th>rating</th>\n",
       "    </tr>\n",
       "  </thead>\n",
       "  <tbody>\n",
       "    <tr>\n",
       "      <th>0</th>\n",
       "      <td>1</td>\n",
       "      <td>30</td>\n",
       "      <td>3</td>\n",
       "    </tr>\n",
       "    <tr>\n",
       "      <th>1</th>\n",
       "      <td>1</td>\n",
       "      <td>157</td>\n",
       "      <td>3</td>\n",
       "    </tr>\n",
       "    <tr>\n",
       "      <th>2</th>\n",
       "      <td>1</td>\n",
       "      <td>173</td>\n",
       "      <td>4</td>\n",
       "    </tr>\n",
       "    <tr>\n",
       "      <th>3</th>\n",
       "      <td>1</td>\n",
       "      <td>175</td>\n",
       "      <td>5</td>\n",
       "    </tr>\n",
       "    <tr>\n",
       "      <th>4</th>\n",
       "      <td>1</td>\n",
       "      <td>191</td>\n",
       "      <td>2</td>\n",
       "    </tr>\n",
       "    <tr>\n",
       "      <th>...</th>\n",
       "      <td>...</td>\n",
       "      <td>...</td>\n",
       "      <td>...</td>\n",
       "    </tr>\n",
       "    <tr>\n",
       "      <th>65225501</th>\n",
       "      <td>103703</td>\n",
       "      <td>17479</td>\n",
       "      <td>2</td>\n",
       "    </tr>\n",
       "    <tr>\n",
       "      <th>65225502</th>\n",
       "      <td>103703</td>\n",
       "      <td>17621</td>\n",
       "      <td>4</td>\n",
       "    </tr>\n",
       "    <tr>\n",
       "      <th>65225503</th>\n",
       "      <td>103703</td>\n",
       "      <td>17622</td>\n",
       "      <td>2</td>\n",
       "    </tr>\n",
       "    <tr>\n",
       "      <th>65225504</th>\n",
       "      <td>103703</td>\n",
       "      <td>17627</td>\n",
       "      <td>4</td>\n",
       "    </tr>\n",
       "    <tr>\n",
       "      <th>65225505</th>\n",
       "      <td>103703</td>\n",
       "      <td>17764</td>\n",
       "      <td>4</td>\n",
       "    </tr>\n",
       "  </tbody>\n",
       "</table>\n",
       "<p>65225506 rows × 3 columns</p>\n",
       "</div>"
      ],
      "text/plain": [
       "          user_id  movie_id  rating\n",
       "0               1        30       3\n",
       "1               1       157       3\n",
       "2               1       173       4\n",
       "3               1       175       5\n",
       "4               1       191       2\n",
       "...           ...       ...     ...\n",
       "65225501   103703     17479       2\n",
       "65225502   103703     17621       4\n",
       "65225503   103703     17622       2\n",
       "65225504   103703     17627       4\n",
       "65225505   103703     17764       4\n",
       "\n",
       "[65225506 rows x 3 columns]"
      ]
     },
     "execution_count": 11,
     "metadata": {},
     "output_type": "execute_result"
    }
   ],
   "source": [
    "df"
   ]
  },
  {
   "cell_type": "markdown",
   "id": "49b9dc62-c6dc-4e38-bc9b-d71dbc4616f0",
   "metadata": {},
   "source": [
    "columns -> users\n",
    "row -> movies \n",
    "\n",
    "We permutate the rows and get their signature which is the signature of the colmuns then -> users that's what we need then"
   ]
  },
  {
   "cell_type": "code",
   "execution_count": 16,
   "id": "d6d5d90e-a09a-41ea-9b0f-3f1e971a258f",
   "metadata": {},
   "outputs": [
    {
     "name": "stdout",
     "output_type": "stream",
     "text": [
      "CPU times: total: 7.28 s\n",
      "Wall time: 9.25 s\n"
     ]
    }
   ],
   "source": [
    "%%time\n",
    "person_u = list(np.sort(df.user_id.unique()).squeeze())\n",
    "thing_u = list(np.sort(df.movie_id.unique()).squeeze())\n",
    "\n",
    "data = df['rating'].astype('bool').astype(int).tolist()\n",
    "# row = person_u\n",
    "# col = thing_u\n",
    "# col\n",
    "col = df.user_id.astype('category').cat.codes\n",
    "row = df.movie_id.astype('category').cat.codes\n",
    "sparse_matrix = csr_matrix((data, (row, col)), shape=(len(thing_u),len(person_u)))"
   ]
  },
  {
   "cell_type": "code",
   "execution_count": 17,
   "id": "adaf85ee-8a37-48ab-ad17-f4172ae85864",
   "metadata": {},
   "outputs": [],
   "source": [
    "# sparse_matrix[2]"
   ]
  },
  {
   "cell_type": "code",
   "execution_count": 18,
   "id": "3bf083d8-27c9-47fc-be06-f3dedfa513c8",
   "metadata": {},
   "outputs": [],
   "source": [
    "tmp = sparse_matrix.getrow(2).todense()"
   ]
  },
  {
   "cell_type": "code",
   "execution_count": 19,
   "id": "a36111b4-ffe5-4bba-a2ed-082050d1c747",
   "metadata": {},
   "outputs": [
    {
     "data": {
      "text/plain": [
       "<17770x103703 sparse matrix of type '<class 'numpy.intc'>'\n",
       "\twith 65225506 stored elements in Compressed Sparse Row format>"
      ]
     },
     "execution_count": 19,
     "metadata": {},
     "output_type": "execute_result"
    }
   ],
   "source": [
    "sparse_matrix"
   ]
  },
  {
   "cell_type": "code",
   "execution_count": 20,
   "id": "7a4cb2ad-a235-49fb-b729-fd811642ec2f",
   "metadata": {},
   "outputs": [
    {
     "name": "stdout",
     "output_type": "stream",
     "text": [
      "CPU times: total: 1min 27s\n",
      "Wall time: 2min 24s\n"
     ]
    }
   ],
   "source": [
    "%%time\n",
    "indices = np.arange(sparse_matrix.shape[0]) #gets the number of rows \n",
    "shuffle(indices)\n",
    "shuffled_matrix = sparse_matrix[list(indices)] \n",
    "arr = np.array(shuffled_matrix.argmax(axis=0))[0,:]\n",
    "sign_matrix = arr\n",
    "for i in range(80):\n",
    "    # indices = np.arange(sparse_matrix.shape[0]) #gets the number of rows \n",
    "    shuffle(indices)\n",
    "    shuffled_matrix = sparse_matrix[list(indices)] \n",
    "    arr = np.array(shuffled_matrix.argmax(axis=0))[0,:]\n",
    "    sign_matrix = np.vstack([sign_matrix,arr])"
   ]
  },
  {
   "cell_type": "code",
   "execution_count": 21,
   "id": "1f4fa8ce-58ff-43b1-a803-686effe530fb",
   "metadata": {},
   "outputs": [
    {
     "data": {
      "text/plain": [
       "(81, 103703)"
      ]
     },
     "execution_count": 21,
     "metadata": {},
     "output_type": "execute_result"
    }
   ],
   "source": [
    "sign_matrix.shape"
   ]
  },
  {
   "cell_type": "code",
   "execution_count": 22,
   "id": "736b3534-4765-40d9-88f8-8973b26772a7",
   "metadata": {},
   "outputs": [
    {
     "data": {
      "text/plain": [
       "array([[ 11,  11,  11, ...,  14,  38,  14],\n",
       "       [ 11,  12,  12, ...,  12,   6,  12],\n",
       "       [ 79,  15,  28, ...,  61,  15,  28],\n",
       "       ...,\n",
       "       [ 41,  56,  24, ..., 139, 139,  26],\n",
       "       [  8,  14,   5, ...,  19,  14,   5],\n",
       "       [ 12,  12,  50, ...,  41,  23,  56]])"
      ]
     },
     "execution_count": 22,
     "metadata": {},
     "output_type": "execute_result"
    }
   ],
   "source": [
    "sign_matrix[:10]"
   ]
  },
  {
   "cell_type": "code",
   "execution_count": 35,
   "id": "8002b3b8-aea7-44cc-9c9e-006d40247d74",
   "metadata": {},
   "outputs": [
    {
     "name": "stdout",
     "output_type": "stream",
     "text": [
      "band: 0\n",
      "band: 10\n",
      "band: 20\n",
      "band: 30\n",
      "band: 40\n",
      "band: 50\n",
      "band: 60\n",
      "band: 70\n",
      "band: 80\n",
      "band: 90\n",
      "band: 100\n",
      "band: 110\n",
      "band: 120\n",
      "band: 130\n",
      "band: 140\n",
      "band: 150\n",
      "band: 160\n",
      "band: 170\n",
      "band: 180\n",
      "band: 190\n",
      "band: 200\n",
      "band: 210\n",
      "band: 220\n",
      "band: 230\n",
      "band: 240\n",
      "band: 250\n",
      "band: 260\n",
      "band: 270\n",
      "band: 280\n",
      "band: 290\n",
      "band: 300\n",
      "band: 310\n",
      "band: 320\n",
      "band: 330\n",
      "band: 340\n",
      "band: 350\n",
      "band: 360\n",
      "band: 370\n",
      "band: 380\n",
      "band: 390\n",
      "band: 400\n",
      "band: 410\n",
      "band: 420\n",
      "band: 430\n",
      "band: 440\n",
      "band: 450\n",
      "band: 460\n",
      "band: 470\n",
      "band: 480\n",
      "band: 490\n",
      "band: 500\n",
      "band: 510\n",
      "band: 520\n",
      "band: 530\n",
      "band: 540\n",
      "band: 550\n",
      "band: 560\n",
      "band: 570\n",
      "band: 580\n",
      "band: 590\n",
      "band: 600\n",
      "band: 610\n",
      "band: 620\n",
      "band: 630\n",
      "band: 640\n",
      "band: 650\n",
      "band: 660\n",
      "band: 670\n",
      "band: 680\n",
      "band: 690\n",
      "band: 700\n",
      "band: 710\n",
      "band: 720\n",
      "band: 730\n",
      "band: 740\n",
      "band: 750\n",
      "band: 760\n",
      "band: 770\n",
      "band: 780\n",
      "band: 790\n",
      "band: 800\n",
      "band: 810\n",
      "band: 820\n",
      "band: 830\n",
      "band: 840\n",
      "band: 850\n",
      "band: 860\n",
      "band: 870\n",
      "band: 880\n",
      "band: 890\n",
      "band: 900\n",
      "band: 910\n",
      "band: 920\n",
      "band: 930\n",
      "band: 940\n",
      "band: 950\n",
      "band: 960\n",
      "band: 970\n",
      "band: 980\n",
      "band: 990\n"
     ]
    },
    {
     "ename": "MemoryError",
     "evalue": "",
     "output_type": "error",
     "traceback": [
      "\u001b[1;31m---------------------------------------------------------------------------\u001b[0m",
      "\u001b[1;31mMemoryError\u001b[0m                               Traceback (most recent call last)",
      "Cell \u001b[1;32mIn[35], line 1\u001b[0m\n\u001b[1;32m----> 1\u001b[0m tmp \u001b[38;5;241m=\u001b[39m \u001b[43mfastCandidatePairs\u001b[49m\u001b[43m(\u001b[49m\u001b[43msign_matrix\u001b[49m\u001b[43m,\u001b[49m\u001b[38;5;241;43m1000\u001b[39;49m\u001b[43m,\u001b[49m\u001b[38;5;241;43m300\u001b[39;49m\u001b[43m)\u001b[49m\n",
      "Cell \u001b[1;32mIn[34], line 19\u001b[0m, in \u001b[0;36mfastCandidatePairs\u001b[1;34m(sig_mat, b, r)\u001b[0m\n\u001b[0;32m     17\u001b[0m     \u001b[38;5;28;01mif\u001b[39;00m \u001b[38;5;28mlen\u001b[39m(bucket) \u001b[38;5;241m>\u001b[39m \u001b[38;5;241m1\u001b[39m:\n\u001b[0;32m     18\u001b[0m         \u001b[38;5;28;01mfor\u001b[39;00m pair \u001b[38;5;129;01min\u001b[39;00m itertools\u001b[38;5;241m.\u001b[39mcombinations(bucket, \u001b[38;5;241m2\u001b[39m):\n\u001b[1;32m---> 19\u001b[0m             \u001b[43mcandidate_pairs\u001b[49m\u001b[38;5;241;43m.\u001b[39;49m\u001b[43madd\u001b[49m\u001b[43m(\u001b[49m\u001b[43mpair\u001b[49m\u001b[43m)\u001b[49m\n\u001b[0;32m     20\u001b[0m \u001b[38;5;28;01mreturn\u001b[39;00m candidate_pairs\n",
      "\u001b[1;31mMemoryError\u001b[0m: "
     ]
    }
   ],
   "source": [
    "tmp = fastCandidatePairs(sign_matrix,1000,300)"
   ]
  },
  {
   "cell_type": "code",
   "execution_count": 24,
   "id": "d97eaa4d-2058-4c6b-a524-e7e4f01b73ee",
   "metadata": {},
   "outputs": [
    {
     "data": {
      "text/plain": [
       "34567.666666666664"
      ]
     },
     "execution_count": 24,
     "metadata": {},
     "output_type": "execute_result"
    }
   ],
   "source": [
    "103703"
   ]
  },
  {
   "cell_type": "code",
   "execution_count": null,
   "id": "990e516c-9968-47a4-bb75-c54d21904f58",
   "metadata": {},
   "outputs": [],
   "source": []
  },
  {
   "cell_type": "code",
   "execution_count": null,
   "id": "f4f34f07-0ab9-440d-a43d-bd90236166bb",
   "metadata": {},
   "outputs": [],
   "source": []
  },
  {
   "cell_type": "code",
   "execution_count": null,
   "id": "242c8ef2-b27f-49fa-8b3f-92bc870b575d",
   "metadata": {},
   "outputs": [],
   "source": []
  },
  {
   "cell_type": "code",
   "execution_count": null,
   "id": "e1df9f90-5aa1-45c0-88c3-e5baafc41b03",
   "metadata": {},
   "outputs": [],
   "source": []
  },
  {
   "cell_type": "code",
   "execution_count": null,
   "id": "5e2330d5-af2f-44bb-9ece-c24983578f09",
   "metadata": {},
   "outputs": [],
   "source": []
  },
  {
   "cell_type": "code",
   "execution_count": 96,
   "id": "b77e5e4f-55a0-4c4f-b69b-3da87c6f5222",
   "metadata": {},
   "outputs": [
    {
     "data": {
      "text/plain": [
       "(103703,)"
      ]
     },
     "execution_count": 96,
     "metadata": {},
     "output_type": "execute_result"
    }
   ],
   "source": []
  },
  {
   "cell_type": "code",
   "execution_count": null,
   "id": "e2b9d048-ba4f-4b55-b4b9-c96ba253fe5b",
   "metadata": {},
   "outputs": [],
   "source": []
  }
 ],
 "metadata": {
  "kernelspec": {
   "display_name": "Python 3 (ipykernel)",
   "language": "python",
   "name": "python3"
  },
  "language_info": {
   "codemirror_mode": {
    "name": "ipython",
    "version": 3
   },
   "file_extension": ".py",
   "mimetype": "text/x-python",
   "name": "python",
   "nbconvert_exporter": "python",
   "pygments_lexer": "ipython3",
   "version": "3.9.13"
  }
 },
 "nbformat": 4,
 "nbformat_minor": 5
}
