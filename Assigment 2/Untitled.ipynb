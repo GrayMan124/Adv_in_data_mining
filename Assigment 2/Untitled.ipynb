{
 "cells": [
  {
   "cell_type": "code",
   "execution_count": 1,
   "id": "2b3425f0-f84a-4412-a3f1-12e0b9aaee5a",
   "metadata": {},
   "outputs": [],
   "source": [
    "import numpy as np"
   ]
  },
  {
   "cell_type": "code",
   "execution_count": 2,
   "id": "4ce7bf3d-1794-4d1a-9a47-ef4061087b8e",
   "metadata": {},
   "outputs": [],
   "source": [
    "t1 = np.array([1,2,0,2,5,0,0,6,0,1,0])"
   ]
  },
  {
   "cell_type": "code",
   "execution_count": 5,
   "id": "8ea6661b-1e31-474c-b7ba-4d99fac8e07e",
   "metadata": {},
   "outputs": [
    {
     "data": {
      "text/plain": [
       "array([1, 1, 0, 1, 1, 0, 0, 1, 0, 1, 0])"
      ]
     },
     "execution_count": 5,
     "metadata": {},
     "output_type": "execute_result"
    }
   ],
   "source": [
    "t1.astype('bool').astype(int)"
   ]
  },
  {
   "cell_type": "code",
   "execution_count": 2,
   "id": "feb5b6a8-643b-439a-889f-940ef9ad551e",
   "metadata": {},
   "outputs": [],
   "source": [
    "matrix = np.random.randint(0,5,[5,7])"
   ]
  },
  {
   "cell_type": "code",
   "execution_count": 324,
   "id": "dcad2e0f-940f-40ef-8ccf-64b8f3d6489a",
   "metadata": {},
   "outputs": [
    {
     "data": {
      "text/plain": [
       "-4"
      ]
     },
     "execution_count": 324,
     "metadata": {},
     "output_type": "execute_result"
    }
   ],
   "source": [
    "np.dot(matrix[:,4],plane)"
   ]
  },
  {
   "cell_type": "code",
   "execution_count": 320,
   "id": "7fc994df-3d5b-4951-917d-82d0c1f9f771",
   "metadata": {},
   "outputs": [
    {
     "data": {
      "text/plain": [
       "array([-5, -4, -5,  0, -4, -6, -4])"
      ]
     },
     "execution_count": 320,
     "metadata": {},
     "output_type": "execute_result"
    }
   ],
   "source": [
    "plane = np.random.randint(-1,2,5)\n",
    "np.dot(plane.T,matrix)"
   ]
  },
  {
   "cell_type": "code",
   "execution_count": 313,
   "id": "ef0cb88e-7302-41e5-85e8-817f66499206",
   "metadata": {},
   "outputs": [
    {
     "data": {
      "text/plain": [
       "4"
      ]
     },
     "execution_count": 313,
     "metadata": {},
     "output_type": "execute_result"
    }
   ],
   "source": [
    "np.dot([1,2,-1,2],[0,1,0,1])"
   ]
  },
  {
   "cell_type": "code",
   "execution_count": 16,
   "id": "41dd8fa4-3a8e-46e2-8393-9443bfa3c59b",
   "metadata": {},
   "outputs": [
    {
     "data": {
      "text/plain": [
       "array([15,  8,  9, 17, 20,  0,  8])"
      ]
     },
     "execution_count": 16,
     "metadata": {},
     "output_type": "execute_result"
    }
   ],
   "source": []
  },
  {
   "cell_type": "code",
   "execution_count": 251,
   "id": "a9a3238b-3c92-4445-acba-274fbaa9b6d1",
   "metadata": {},
   "outputs": [
    {
     "name": "stdout",
     "output_type": "stream",
     "text": [
      "Input Vector: [0 2 2 0 5 2 2 2 5 5]\n",
      "Hash Code: 0\n"
     ]
    }
   ],
   "source": [
    "import numpy as np\n",
    "\n",
    "def random_projection_hash(input_vector, projection_matrix, threshold):\n",
    "    hashed_value = np.dot(input_vector, projection_matrix)\n",
    "    hash_code = int(hashed_value >= threshold)\n",
    "    return hash_code\n",
    "\n",
    "# Example usage:\n",
    "dimension = 10  # Dimensionality of the input vector\n",
    "threshold = 0.5  # Adjust the threshold as needed\n",
    "\n",
    "# Generate a random projection matrix with integer values between 0 and 1\n",
    "projection_matrix = np.random.randint(-1,1,dimension)\n",
    "\n",
    "# Generate a random input vector of integers between 0 and 5 for demonstration purposes\n",
    "input_vector = np.random.randint(6, size=dimension)\n",
    "\n",
    "# Hash the input vector using random projection into two buckets\n",
    "hash_code = random_projection_hash(input_vector, projection_matrix, threshold)\n",
    "\n",
    "print(\"Input Vector:\", input_vector)\n",
    "print(\"Hash Code:\", hash_code)"
   ]
  },
  {
   "cell_type": "code",
   "execution_count": null,
   "id": "839890fa-5b86-4e4e-93c2-adcc52ef41c4",
   "metadata": {},
   "outputs": [],
   "source": []
  }
 ],
 "metadata": {
  "kernelspec": {
   "display_name": "Python 3 (ipykernel)",
   "language": "python",
   "name": "python3"
  },
  "language_info": {
   "codemirror_mode": {
    "name": "ipython",
    "version": 3
   },
   "file_extension": ".py",
   "mimetype": "text/x-python",
   "name": "python",
   "nbconvert_exporter": "python",
   "pygments_lexer": "ipython3",
   "version": "3.9.13"
  }
 },
 "nbformat": 4,
 "nbformat_minor": 5
}
